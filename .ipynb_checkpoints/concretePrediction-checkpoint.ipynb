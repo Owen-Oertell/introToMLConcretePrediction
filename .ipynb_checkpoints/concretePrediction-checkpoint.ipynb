{
 "cells": [
  {
   "cell_type": "code",
   "execution_count": 21,
   "id": "labeled-description",
   "metadata": {},
   "outputs": [],
   "source": [
    "# NOTE: This example is very similar to the https://www.tensorflow.org/tutorials/keras/regression tutorial. Check out that tutorial for more information regression being applied to a different dataset.\n",
    "# Importing Libaries\n",
    "\n",
    "import matplotlib.pyplot as plt\n",
    "import numpy as np\n",
    "import pandas as pd\n",
    "import seaborn as sns\n",
    "import tensorflow as tf\n",
    "from tensorflow import keras\n",
    "from tensorflow.keras import layers\n",
    "from tensorflow.keras.layers.experimental import preprocessing"
   ]
  },
  {
   "cell_type": "code",
   "execution_count": 10,
   "id": "random-wealth",
   "metadata": {},
   "outputs": [
    {
     "data": {
      "text/html": [
       "<div>\n",
       "<style scoped>\n",
       "    .dataframe tbody tr th:only-of-type {\n",
       "        vertical-align: middle;\n",
       "    }\n",
       "\n",
       "    .dataframe tbody tr th {\n",
       "        vertical-align: top;\n",
       "    }\n",
       "\n",
       "    .dataframe thead th {\n",
       "        text-align: right;\n",
       "    }\n",
       "</style>\n",
       "<table border=\"1\" class=\"dataframe\">\n",
       "  <thead>\n",
       "    <tr style=\"text-align: right;\">\n",
       "      <th></th>\n",
       "      <th>Cement</th>\n",
       "      <th>Blast Furnace Slag</th>\n",
       "      <th>Fly Ash</th>\n",
       "      <th>Water</th>\n",
       "      <th>Superplasticizer</th>\n",
       "      <th>Coarse Aggregate</th>\n",
       "      <th>Fine Aggregate</th>\n",
       "      <th>Age</th>\n",
       "      <th>Strength</th>\n",
       "    </tr>\n",
       "  </thead>\n",
       "  <tbody>\n",
       "    <tr>\n",
       "      <th>0</th>\n",
       "      <td>540.0</td>\n",
       "      <td>0.0</td>\n",
       "      <td>0.0</td>\n",
       "      <td>162.0</td>\n",
       "      <td>2.5</td>\n",
       "      <td>1040.0</td>\n",
       "      <td>676.0</td>\n",
       "      <td>28</td>\n",
       "      <td>79.99</td>\n",
       "    </tr>\n",
       "    <tr>\n",
       "      <th>1</th>\n",
       "      <td>540.0</td>\n",
       "      <td>0.0</td>\n",
       "      <td>0.0</td>\n",
       "      <td>162.0</td>\n",
       "      <td>2.5</td>\n",
       "      <td>1055.0</td>\n",
       "      <td>676.0</td>\n",
       "      <td>28</td>\n",
       "      <td>61.89</td>\n",
       "    </tr>\n",
       "    <tr>\n",
       "      <th>2</th>\n",
       "      <td>332.5</td>\n",
       "      <td>142.5</td>\n",
       "      <td>0.0</td>\n",
       "      <td>228.0</td>\n",
       "      <td>0.0</td>\n",
       "      <td>932.0</td>\n",
       "      <td>594.0</td>\n",
       "      <td>270</td>\n",
       "      <td>40.27</td>\n",
       "    </tr>\n",
       "    <tr>\n",
       "      <th>3</th>\n",
       "      <td>332.5</td>\n",
       "      <td>142.5</td>\n",
       "      <td>0.0</td>\n",
       "      <td>228.0</td>\n",
       "      <td>0.0</td>\n",
       "      <td>932.0</td>\n",
       "      <td>594.0</td>\n",
       "      <td>365</td>\n",
       "      <td>41.05</td>\n",
       "    </tr>\n",
       "    <tr>\n",
       "      <th>4</th>\n",
       "      <td>198.6</td>\n",
       "      <td>132.4</td>\n",
       "      <td>0.0</td>\n",
       "      <td>192.0</td>\n",
       "      <td>0.0</td>\n",
       "      <td>978.4</td>\n",
       "      <td>825.5</td>\n",
       "      <td>360</td>\n",
       "      <td>44.30</td>\n",
       "    </tr>\n",
       "    <tr>\n",
       "      <th>...</th>\n",
       "      <td>...</td>\n",
       "      <td>...</td>\n",
       "      <td>...</td>\n",
       "      <td>...</td>\n",
       "      <td>...</td>\n",
       "      <td>...</td>\n",
       "      <td>...</td>\n",
       "      <td>...</td>\n",
       "      <td>...</td>\n",
       "    </tr>\n",
       "    <tr>\n",
       "      <th>1025</th>\n",
       "      <td>276.4</td>\n",
       "      <td>116.0</td>\n",
       "      <td>90.3</td>\n",
       "      <td>179.6</td>\n",
       "      <td>8.9</td>\n",
       "      <td>870.1</td>\n",
       "      <td>768.3</td>\n",
       "      <td>28</td>\n",
       "      <td>44.28</td>\n",
       "    </tr>\n",
       "    <tr>\n",
       "      <th>1026</th>\n",
       "      <td>322.2</td>\n",
       "      <td>0.0</td>\n",
       "      <td>115.6</td>\n",
       "      <td>196.0</td>\n",
       "      <td>10.4</td>\n",
       "      <td>817.9</td>\n",
       "      <td>813.4</td>\n",
       "      <td>28</td>\n",
       "      <td>31.18</td>\n",
       "    </tr>\n",
       "    <tr>\n",
       "      <th>1027</th>\n",
       "      <td>148.5</td>\n",
       "      <td>139.4</td>\n",
       "      <td>108.6</td>\n",
       "      <td>192.7</td>\n",
       "      <td>6.1</td>\n",
       "      <td>892.4</td>\n",
       "      <td>780.0</td>\n",
       "      <td>28</td>\n",
       "      <td>23.70</td>\n",
       "    </tr>\n",
       "    <tr>\n",
       "      <th>1028</th>\n",
       "      <td>159.1</td>\n",
       "      <td>186.7</td>\n",
       "      <td>0.0</td>\n",
       "      <td>175.6</td>\n",
       "      <td>11.3</td>\n",
       "      <td>989.6</td>\n",
       "      <td>788.9</td>\n",
       "      <td>28</td>\n",
       "      <td>32.77</td>\n",
       "    </tr>\n",
       "    <tr>\n",
       "      <th>1029</th>\n",
       "      <td>260.9</td>\n",
       "      <td>100.5</td>\n",
       "      <td>78.3</td>\n",
       "      <td>200.6</td>\n",
       "      <td>8.6</td>\n",
       "      <td>864.5</td>\n",
       "      <td>761.5</td>\n",
       "      <td>28</td>\n",
       "      <td>32.40</td>\n",
       "    </tr>\n",
       "  </tbody>\n",
       "</table>\n",
       "<p>1030 rows × 9 columns</p>\n",
       "</div>"
      ],
      "text/plain": [
       "      Cement  Blast Furnace Slag  Fly Ash  Water  Superplasticizer  \\\n",
       "0      540.0                 0.0      0.0  162.0               2.5   \n",
       "1      540.0                 0.0      0.0  162.0               2.5   \n",
       "2      332.5               142.5      0.0  228.0               0.0   \n",
       "3      332.5               142.5      0.0  228.0               0.0   \n",
       "4      198.6               132.4      0.0  192.0               0.0   \n",
       "...      ...                 ...      ...    ...               ...   \n",
       "1025   276.4               116.0     90.3  179.6               8.9   \n",
       "1026   322.2                 0.0    115.6  196.0              10.4   \n",
       "1027   148.5               139.4    108.6  192.7               6.1   \n",
       "1028   159.1               186.7      0.0  175.6              11.3   \n",
       "1029   260.9               100.5     78.3  200.6               8.6   \n",
       "\n",
       "      Coarse Aggregate  Fine Aggregate  Age  Strength  \n",
       "0               1040.0           676.0   28     79.99  \n",
       "1               1055.0           676.0   28     61.89  \n",
       "2                932.0           594.0  270     40.27  \n",
       "3                932.0           594.0  365     41.05  \n",
       "4                978.4           825.5  360     44.30  \n",
       "...                ...             ...  ...       ...  \n",
       "1025             870.1           768.3   28     44.28  \n",
       "1026             817.9           813.4   28     31.18  \n",
       "1027             892.4           780.0   28     23.70  \n",
       "1028             989.6           788.9   28     32.77  \n",
       "1029             864.5           761.5   28     32.40  \n",
       "\n",
       "[1030 rows x 9 columns]"
      ]
     },
     "execution_count": 10,
     "metadata": {},
     "output_type": "execute_result"
    }
   ],
   "source": [
    "# Import the data\n",
    "concreteData = pd.read_csv(\"./concrete_data.csv\")\n",
    "\n",
    "# Print out some data.\n",
    "concreteData"
   ]
  },
  {
   "cell_type": "code",
   "execution_count": 11,
   "id": "latter-elevation",
   "metadata": {},
   "outputs": [
    {
     "data": {
      "text/plain": [
       "Cement                0\n",
       "Blast Furnace Slag    0\n",
       "Fly Ash               0\n",
       "Water                 0\n",
       "Superplasticizer      0\n",
       "Coarse Aggregate      0\n",
       "Fine Aggregate        0\n",
       "Age                   0\n",
       "Strength              0\n",
       "dtype: int64"
      ]
     },
     "execution_count": 11,
     "metadata": {},
     "output_type": "execute_result"
    }
   ],
   "source": [
    "# Check to make sure that there are no n/a rows\n",
    "concreteData.isna().sum()"
   ]
  },
  {
   "cell_type": "code",
   "execution_count": 12,
   "id": "legislative-quebec",
   "metadata": {},
   "outputs": [],
   "source": [
    "# Create the training/validation split.\n",
    "trainingSet = concreteData.sample(frac=0.8, random_state=0)\n",
    "validationSet = concreteData.drop(trainingSet.index)"
   ]
  },
  {
   "cell_type": "code",
   "execution_count": 16,
   "id": "plain-brazilian",
   "metadata": {},
   "outputs": [
    {
     "data": {
      "text/html": [
       "<div>\n",
       "<style scoped>\n",
       "    .dataframe tbody tr th:only-of-type {\n",
       "        vertical-align: middle;\n",
       "    }\n",
       "\n",
       "    .dataframe tbody tr th {\n",
       "        vertical-align: top;\n",
       "    }\n",
       "\n",
       "    .dataframe thead th {\n",
       "        text-align: right;\n",
       "    }\n",
       "</style>\n",
       "<table border=\"1\" class=\"dataframe\">\n",
       "  <thead>\n",
       "    <tr style=\"text-align: right;\">\n",
       "      <th></th>\n",
       "      <th>count</th>\n",
       "      <th>mean</th>\n",
       "      <th>std</th>\n",
       "      <th>min</th>\n",
       "      <th>25%</th>\n",
       "      <th>50%</th>\n",
       "      <th>75%</th>\n",
       "      <th>max</th>\n",
       "    </tr>\n",
       "  </thead>\n",
       "  <tbody>\n",
       "    <tr>\n",
       "      <th>Cement</th>\n",
       "      <td>824.0</td>\n",
       "      <td>280.272694</td>\n",
       "      <td>104.483467</td>\n",
       "      <td>102.00</td>\n",
       "      <td>193.125</td>\n",
       "      <td>266.000</td>\n",
       "      <td>350.0000</td>\n",
       "      <td>540.0</td>\n",
       "    </tr>\n",
       "    <tr>\n",
       "      <th>Blast Furnace Slag</th>\n",
       "      <td>824.0</td>\n",
       "      <td>73.171238</td>\n",
       "      <td>85.865727</td>\n",
       "      <td>0.00</td>\n",
       "      <td>0.000</td>\n",
       "      <td>22.000</td>\n",
       "      <td>142.5000</td>\n",
       "      <td>359.4</td>\n",
       "    </tr>\n",
       "    <tr>\n",
       "      <th>Fly Ash</th>\n",
       "      <td>824.0</td>\n",
       "      <td>55.318325</td>\n",
       "      <td>64.098118</td>\n",
       "      <td>0.00</td>\n",
       "      <td>0.000</td>\n",
       "      <td>0.000</td>\n",
       "      <td>118.3000</td>\n",
       "      <td>200.1</td>\n",
       "    </tr>\n",
       "    <tr>\n",
       "      <th>Water</th>\n",
       "      <td>824.0</td>\n",
       "      <td>182.029490</td>\n",
       "      <td>21.287699</td>\n",
       "      <td>121.80</td>\n",
       "      <td>164.900</td>\n",
       "      <td>185.700</td>\n",
       "      <td>192.0000</td>\n",
       "      <td>247.0</td>\n",
       "    </tr>\n",
       "    <tr>\n",
       "      <th>Superplasticizer</th>\n",
       "      <td>824.0</td>\n",
       "      <td>6.147816</td>\n",
       "      <td>6.000795</td>\n",
       "      <td>0.00</td>\n",
       "      <td>0.000</td>\n",
       "      <td>6.100</td>\n",
       "      <td>10.1250</td>\n",
       "      <td>32.2</td>\n",
       "    </tr>\n",
       "    <tr>\n",
       "      <th>Coarse Aggregate</th>\n",
       "      <td>824.0</td>\n",
       "      <td>973.991019</td>\n",
       "      <td>77.755840</td>\n",
       "      <td>801.00</td>\n",
       "      <td>932.000</td>\n",
       "      <td>968.000</td>\n",
       "      <td>1030.2500</td>\n",
       "      <td>1145.0</td>\n",
       "    </tr>\n",
       "    <tr>\n",
       "      <th>Fine Aggregate</th>\n",
       "      <td>824.0</td>\n",
       "      <td>771.898301</td>\n",
       "      <td>80.031529</td>\n",
       "      <td>594.00</td>\n",
       "      <td>721.750</td>\n",
       "      <td>779.300</td>\n",
       "      <td>824.0000</td>\n",
       "      <td>992.6</td>\n",
       "    </tr>\n",
       "    <tr>\n",
       "      <th>Age</th>\n",
       "      <td>824.0</td>\n",
       "      <td>45.708738</td>\n",
       "      <td>63.603343</td>\n",
       "      <td>1.00</td>\n",
       "      <td>7.000</td>\n",
       "      <td>28.000</td>\n",
       "      <td>56.0000</td>\n",
       "      <td>365.0</td>\n",
       "    </tr>\n",
       "    <tr>\n",
       "      <th>Strength</th>\n",
       "      <td>824.0</td>\n",
       "      <td>35.739478</td>\n",
       "      <td>16.582095</td>\n",
       "      <td>2.33</td>\n",
       "      <td>23.520</td>\n",
       "      <td>34.425</td>\n",
       "      <td>46.2075</td>\n",
       "      <td>82.6</td>\n",
       "    </tr>\n",
       "  </tbody>\n",
       "</table>\n",
       "</div>"
      ],
      "text/plain": [
       "                    count        mean         std     min      25%      50%  \\\n",
       "Cement              824.0  280.272694  104.483467  102.00  193.125  266.000   \n",
       "Blast Furnace Slag  824.0   73.171238   85.865727    0.00    0.000   22.000   \n",
       "Fly Ash             824.0   55.318325   64.098118    0.00    0.000    0.000   \n",
       "Water               824.0  182.029490   21.287699  121.80  164.900  185.700   \n",
       "Superplasticizer    824.0    6.147816    6.000795    0.00    0.000    6.100   \n",
       "Coarse Aggregate    824.0  973.991019   77.755840  801.00  932.000  968.000   \n",
       "Fine Aggregate      824.0  771.898301   80.031529  594.00  721.750  779.300   \n",
       "Age                 824.0   45.708738   63.603343    1.00    7.000   28.000   \n",
       "Strength            824.0   35.739478   16.582095    2.33   23.520   34.425   \n",
       "\n",
       "                          75%     max  \n",
       "Cement               350.0000   540.0  \n",
       "Blast Furnace Slag   142.5000   359.4  \n",
       "Fly Ash              118.3000   200.1  \n",
       "Water                192.0000   247.0  \n",
       "Superplasticizer      10.1250    32.2  \n",
       "Coarse Aggregate    1030.2500  1145.0  \n",
       "Fine Aggregate       824.0000   992.6  \n",
       "Age                   56.0000   365.0  \n",
       "Strength              46.2075    82.6  "
      ]
     },
     "execution_count": 16,
     "metadata": {},
     "output_type": "execute_result"
    }
   ],
   "source": [
    "# Take a look at the training set.\n",
    "trainingSet.describe().transpose()"
   ]
  },
  {
   "cell_type": "code",
   "execution_count": 17,
   "id": "straight-scientist",
   "metadata": {
    "collapsed": true,
    "jupyter": {
     "outputs_hidden": true
    },
    "tags": []
   },
   "outputs": [
    {
     "data": {
      "text/plain": [
       "11      28.02\n",
       "19      42.62\n",
       "23      44.21\n",
       "25      53.30\n",
       "28      37.43\n",
       "        ...  \n",
       "999     15.57\n",
       "1003    65.91\n",
       "1014    33.31\n",
       "1018    37.27\n",
       "1021    31.88\n",
       "Name: Strength, Length: 206, dtype: float64"
      ]
     },
     "execution_count": 17,
     "metadata": {},
     "output_type": "execute_result"
    }
   ],
   "source": [
    "# Now we need to designate what is the label and what are the features that we are predicting.\n",
    "trainingFeatures = trainingSet.copy()\n",
    "trainingFeatures.pop(\"Strength\")\n",
    "\n",
    "validationFeatures = validationSet.copy()\n",
    "validationFeatures.pop(\"Strength\")"
   ]
  },
  {
   "cell_type": "code",
   "execution_count": 25,
   "id": "partial-hungarian",
   "metadata": {},
   "outputs": [],
   "source": [
    "# Something we didn't talk about fully is called normalization. This is scaling the data that way the values of the points become what is called a z-score. This allows for the model to convege more easily.\n",
    "# for more information, check out https://en.wikipedia.org/wiki/Feature_scaling\n",
    "\n",
    "# We are going to rely on keras to do the heavy lifiting for this.\n",
    "normalizer = preprocessing.Normalization()\n",
    "normalizer.adapt(np.array(trainingFeatures))"
   ]
  },
  {
   "cell_type": "code",
   "execution_count": 88,
   "id": "beneficial-stack",
   "metadata": {},
   "outputs": [],
   "source": [
    "# Here, we define the structure of the neural network. In this case we are going to go input -> normalizer -> 2 hidden layers with 64 neurons and the ReLU activation function -> output layer. \n",
    "model = tf.keras.Sequential([\n",
    "    normalizer,\n",
    "    layers.Dense(64, activation='relu'),\n",
    "    layers.Dense(64, activation='relu'),\n",
    "    layers.Dense(1)\n",
    "])\n",
    "\n",
    "# Now, we are going to compile the model, and tell it the type of loss to look at\n",
    "# It is important to note that the Adam optimizer is an improve (but more complicated) version of the stochastic gradient decent we looked a during the presentation. For now, just know that it does essentially the same job as SGD.\n",
    "# Although we talked about mean squared error, sometimes the \"square\" part means that it listens to outliers too much. In order to prevent this, I decided to use mean_absolute_error which takes the absolute value of the error\n",
    "# instead of squaring it.\n",
    "model.compile(loss='mean_absolute_error', optimizer=tf.keras.optimizers.Adam(0.001))"
   ]
  },
  {
   "cell_type": "code",
   "execution_count": 89,
   "id": "noted-proposition",
   "metadata": {},
   "outputs": [
    {
     "name": "stdout",
     "output_type": "stream",
     "text": [
      "Model: \"sequential_6\"\n",
      "_________________________________________________________________\n",
      "Layer (type)                 Output Shape              Param #   \n",
      "=================================================================\n",
      "normalization_2 (Normalizati (None, 8)                 17        \n",
      "_________________________________________________________________\n",
      "dense_19 (Dense)             (None, 64)                576       \n",
      "_________________________________________________________________\n",
      "dense_20 (Dense)             (None, 64)                4160      \n",
      "_________________________________________________________________\n",
      "dense_21 (Dense)             (None, 64)                4160      \n",
      "_________________________________________________________________\n",
      "dense_22 (Dense)             (None, 64)                4160      \n",
      "_________________________________________________________________\n",
      "dense_23 (Dense)             (None, 1)                 65        \n",
      "=================================================================\n",
      "Total params: 13,138\n",
      "Trainable params: 13,121\n",
      "Non-trainable params: 17\n",
      "_________________________________________________________________\n"
     ]
    }
   ],
   "source": [
    "# We can get a summary of this model that we just created\n",
    "model.summary()"
   ]
  },
  {
   "cell_type": "code",
   "execution_count": 90,
   "id": "approved-finland",
   "metadata": {},
   "outputs": [],
   "source": [
    "## A function to plot the loss with matplotlib.. don't worry about this.\n",
    "def plot_loss(history):\n",
    "  plt.plot(history.history['loss'], label='Loss')\n",
    "  plt.plot(history.history['val_loss'], label='Epoch Validation Loss')\n",
    "  plt.xlabel('Epoch')\n",
    "  plt.ylabel('Error')\n",
    "  plt.legend()\n",
    "  plt.grid(True)"
   ]
  },
  {
   "cell_type": "code",
   "execution_count": 91,
   "id": "imported-semiconductor",
   "metadata": {
    "tags": []
   },
   "outputs": [],
   "source": [
    "# Now, we can train the model to get it to become accurate.\n",
    "history = model.fit(trainingFeatures, trainingSet[\"Strength\"], epochs=100, validation_split=0.2, verbose=0)"
   ]
  },
  {
   "cell_type": "code",
   "execution_count": 92,
   "id": "aquatic-fourth",
   "metadata": {},
   "outputs": [
    {
     "data": {
      "image/png": "[encoded data removed]",
      "text/plain": [
       "<Figure size 432x288 with 1 Axes>"
      ]
     },
     "metadata": {
      "needs_background": "light"
     },
     "output_type": "display_data"
    }
   ],
   "source": [
    "hist = pd.DataFrame(history.history)\n",
    "hist['epoch'] = history.epoch\n",
    "\n",
    "plot_loss(history)"
   ]
  },
  {
   "cell_type": "code",
   "execution_count": 67,
   "id": "mechanical-migration",
   "metadata": {},
   "outputs": [
    {
     "name": "stdout",
     "output_type": "stream",
     "text": [
      "7/7 [==============================] - 0s 1ms/step - loss: 5.1578\n"
     ]
    },
    {
     "data": {
      "text/plain": [
       "5.157785892486572"
      ]
     },
     "execution_count": 67,
     "metadata": {},
     "output_type": "execute_result"
    }
   ],
   "source": [
    "# Now that we have a model, which seems to be pretty good at predicting concrete strengh, lets test it to make sure that it didn't overfit!\n",
    "# We can see that because the loss is about the smae as what we were getting on the data it was trained on, overfitting does not appear to be a signficant issue\n",
    "model.evaluate(validationFeatures, validationSet[\"Strength\"])"
   ]
  },
  {
   "cell_type": "code",
   "execution_count": 72,
   "id": "operational-investor",
   "metadata": {},
   "outputs": [],
   "source": [
    "# Now, lets take a look at the predictions\n",
    "validationSet['Predictions'] = model.predict(validationFeatures)\n",
    "validationSet['loss'] = abs(validationSet['Predictions']-validationSet[\"Strength\"]) "
   ]
  },
  {
   "cell_type": "code",
   "execution_count": 82,
   "id": "mobile-tiffany",
   "metadata": {},
   "outputs": [
    {
     "data": {
      "text/plain": [
       "<seaborn.axisgrid.FacetGrid at 0x7f68fc293eb0>"
      ]
     },
     "execution_count": 82,
     "metadata": {},
     "output_type": "execute_result"
    },
    {
     "data": {
      "image/png": "[encoded data removed]",
      "text/plain": [
       "<Figure size 360x360 with 1 Axes>"
      ]
     },
     "metadata": {
      "needs_background": "light"
     },
     "output_type": "display_data"
    }
   ],
   "source": [
    "sns.displot(validationSet, x=\"loss\", kind=\"kde\", bw_adjust=0.3)"
   ]
  },
  {
   "cell_type": "markdown",
   "id": "graphic-devices",
   "metadata": {
    "tags": []
   },
   "source": [
    "# Improvements\n",
    "Models can always improve from changing the number of layers present to changing the number of neurons in each layer. This is by no means the optimal model for concrete prediction, but it is a good example of the power of machine learning and how even with a basic model, and a few layers, you can start getting quite accurate predictions. "
   ]
  }
 ],
 "metadata": {
  "kernelspec": {
   "display_name": "Python 3",
   "language": "python",
   "name": "python3"
  },
  "language_info": {
   "codemirror_mode": {
    "name": "ipython",
    "version": 3
   },
   "file_extension": ".py",
   "mimetype": "text/x-python",
   "name": "python",
   "nbconvert_exporter": "python",
   "pygments_lexer": "ipython3",
   "version": "3.8.5"
  }
 },
 "nbformat": 4,
 "nbformat_minor": 5
}
